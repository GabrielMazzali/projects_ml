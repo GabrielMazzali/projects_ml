{
 "cells": [
  {
   "cell_type": "markdown",
   "id": "35986b45",
   "metadata": {},
   "source": [
    "# Indentifying risk of Heart Attack in patients - Random Forest model\n",
    "\n",
    "Development of a classification model using the algorithm **Random Forest** to identify patterns and key characteristics that indicate a high risk of heart attack."
   ]
  },
  {
   "cell_type": "code",
   "execution_count": 1,
   "id": "3005f10d",
   "metadata": {},
   "outputs": [],
   "source": [
    "import pandas as pd\n",
    "import matplotlib.pyplot as plt\n",
    "import seaborn as sns\n",
    "from imblearn.under_sampling import RandomUnderSampler, TomekLinks\n",
    "from sklearn.model_selection import train_test_split\n",
    "from sklearn.ensemble import RandomForestClassifier\n",
    "from sklearn.metrics import accuracy_score, confusion_matrix, classification_report"
   ]
  },
  {
   "cell_type": "markdown",
   "id": "5ac24916",
   "metadata": {},
   "source": [
    "## Data Loading"
   ]
  },
  {
   "cell_type": "code",
   "execution_count": 2,
   "id": "bddaa119",
   "metadata": {},
   "outputs": [],
   "source": [
    "med_data = pd.read_csv('./dataset/heart.csv', sep=',')"
   ]
  },
  {
   "cell_type": "code",
   "execution_count": 3,
   "id": "1eecfa2e",
   "metadata": {},
   "outputs": [
    {
     "name": "stdout",
     "output_type": "stream",
     "text": [
      "<class 'pandas.core.frame.DataFrame'>\n",
      "RangeIndex: 342 entries, 0 to 341\n",
      "Data columns (total 14 columns):\n",
      " #   Column    Non-Null Count  Dtype  \n",
      "---  ------    --------------  -----  \n",
      " 0   age       342 non-null    int64  \n",
      " 1   sex       342 non-null    int64  \n",
      " 2   cp        342 non-null    int64  \n",
      " 3   trtbps    342 non-null    int64  \n",
      " 4   chol      342 non-null    int64  \n",
      " 5   fbs       342 non-null    int64  \n",
      " 6   restecg   342 non-null    int64  \n",
      " 7   thalachh  342 non-null    int64  \n",
      " 8   exng      342 non-null    int64  \n",
      " 9   oldpeak   342 non-null    float64\n",
      " 10  slp       342 non-null    int64  \n",
      " 11  caa       342 non-null    int64  \n",
      " 12  thall     342 non-null    int64  \n",
      " 13  output    342 non-null    int64  \n",
      "dtypes: float64(1), int64(13)\n",
      "memory usage: 37.5 KB\n"
     ]
    }
   ],
   "source": [
    "med_data.info()"
   ]
  },
  {
   "cell_type": "markdown",
   "id": "f69f3f5f",
   "metadata": {},
   "source": [
    "## Data Processing and Analysis"
   ]
  },
  {
   "cell_type": "code",
   "execution_count": 4,
   "id": "52beb92c",
   "metadata": {},
   "outputs": [
    {
     "data": {
      "text/html": [
       "<div>\n",
       "<style scoped>\n",
       "    .dataframe tbody tr th:only-of-type {\n",
       "        vertical-align: middle;\n",
       "    }\n",
       "\n",
       "    .dataframe tbody tr th {\n",
       "        vertical-align: top;\n",
       "    }\n",
       "\n",
       "    .dataframe thead th {\n",
       "        text-align: right;\n",
       "    }\n",
       "</style>\n",
       "<table border=\"1\" class=\"dataframe\">\n",
       "  <thead>\n",
       "    <tr style=\"text-align: right;\">\n",
       "      <th></th>\n",
       "      <th>age</th>\n",
       "      <th>sex</th>\n",
       "      <th>cp</th>\n",
       "      <th>trtbps</th>\n",
       "      <th>chol</th>\n",
       "      <th>fbs</th>\n",
       "      <th>restecg</th>\n",
       "      <th>thalachh</th>\n",
       "      <th>exng</th>\n",
       "      <th>oldpeak</th>\n",
       "      <th>slp</th>\n",
       "      <th>caa</th>\n",
       "      <th>thall</th>\n",
       "      <th>output</th>\n",
       "    </tr>\n",
       "  </thead>\n",
       "  <tbody>\n",
       "    <tr>\n",
       "      <th>0</th>\n",
       "      <td>63</td>\n",
       "      <td>1</td>\n",
       "      <td>3</td>\n",
       "      <td>145</td>\n",
       "      <td>233</td>\n",
       "      <td>1</td>\n",
       "      <td>0</td>\n",
       "      <td>150</td>\n",
       "      <td>0</td>\n",
       "      <td>2.3</td>\n",
       "      <td>0</td>\n",
       "      <td>0</td>\n",
       "      <td>1</td>\n",
       "      <td>1</td>\n",
       "    </tr>\n",
       "    <tr>\n",
       "      <th>1</th>\n",
       "      <td>37</td>\n",
       "      <td>1</td>\n",
       "      <td>2</td>\n",
       "      <td>130</td>\n",
       "      <td>250</td>\n",
       "      <td>0</td>\n",
       "      <td>1</td>\n",
       "      <td>187</td>\n",
       "      <td>0</td>\n",
       "      <td>3.5</td>\n",
       "      <td>0</td>\n",
       "      <td>0</td>\n",
       "      <td>2</td>\n",
       "      <td>1</td>\n",
       "    </tr>\n",
       "    <tr>\n",
       "      <th>2</th>\n",
       "      <td>41</td>\n",
       "      <td>0</td>\n",
       "      <td>1</td>\n",
       "      <td>130</td>\n",
       "      <td>204</td>\n",
       "      <td>0</td>\n",
       "      <td>0</td>\n",
       "      <td>172</td>\n",
       "      <td>0</td>\n",
       "      <td>1.4</td>\n",
       "      <td>2</td>\n",
       "      <td>0</td>\n",
       "      <td>2</td>\n",
       "      <td>1</td>\n",
       "    </tr>\n",
       "    <tr>\n",
       "      <th>3</th>\n",
       "      <td>56</td>\n",
       "      <td>1</td>\n",
       "      <td>1</td>\n",
       "      <td>120</td>\n",
       "      <td>236</td>\n",
       "      <td>0</td>\n",
       "      <td>1</td>\n",
       "      <td>178</td>\n",
       "      <td>0</td>\n",
       "      <td>0.8</td>\n",
       "      <td>2</td>\n",
       "      <td>0</td>\n",
       "      <td>2</td>\n",
       "      <td>1</td>\n",
       "    </tr>\n",
       "    <tr>\n",
       "      <th>4</th>\n",
       "      <td>57</td>\n",
       "      <td>0</td>\n",
       "      <td>0</td>\n",
       "      <td>120</td>\n",
       "      <td>354</td>\n",
       "      <td>0</td>\n",
       "      <td>1</td>\n",
       "      <td>163</td>\n",
       "      <td>1</td>\n",
       "      <td>0.6</td>\n",
       "      <td>2</td>\n",
       "      <td>0</td>\n",
       "      <td>2</td>\n",
       "      <td>1</td>\n",
       "    </tr>\n",
       "  </tbody>\n",
       "</table>\n",
       "</div>"
      ],
      "text/plain": [
       "   age  sex  cp  trtbps  chol  fbs  restecg  thalachh  exng  oldpeak  slp  \\\n",
       "0   63    1   3     145   233    1        0       150     0      2.3    0   \n",
       "1   37    1   2     130   250    0        1       187     0      3.5    0   \n",
       "2   41    0   1     130   204    0        0       172     0      1.4    2   \n",
       "3   56    1   1     120   236    0        1       178     0      0.8    2   \n",
       "4   57    0   0     120   354    0        1       163     1      0.6    2   \n",
       "\n",
       "   caa  thall  output  \n",
       "0    0      1       1  \n",
       "1    0      2       1  \n",
       "2    0      2       1  \n",
       "3    0      2       1  \n",
       "4    0      2       1  "
      ]
     },
     "execution_count": 4,
     "metadata": {},
     "output_type": "execute_result"
    }
   ],
   "source": [
    "med_data.head()"
   ]
  },
  {
   "cell_type": "markdown",
   "id": "0028643d",
   "metadata": {},
   "source": [
    "### Checking if data is balanced"
   ]
  },
  {
   "cell_type": "code",
   "execution_count": 5,
   "id": "3d4bdebe",
   "metadata": {},
   "outputs": [
    {
     "data": {
      "text/plain": [
       "output\n",
       "0    171\n",
       "1    171\n",
       "Name: output, dtype: int64"
      ]
     },
     "execution_count": 5,
     "metadata": {},
     "output_type": "execute_result"
    }
   ],
   "source": [
    "# Drop Duplicates (if any)\n",
    "med_data.drop_duplicates()\n",
    "med_data.groupby(['output'])['output'].count()"
   ]
  },
  {
   "cell_type": "markdown",
   "id": "3b7a462c",
   "metadata": {},
   "source": [
    "### Spliting features and target\n",
    "In this step, the data will be splited in the following:\n",
    "- features: age, sex, cp, trtbps, chol, fbs, restecg, thalachh, exng, oldpeak, slp, caa, thall as **x_data**\n",
    "- target: output as **y_data**"
   ]
  },
  {
   "cell_type": "code",
   "execution_count": 6,
   "id": "3a84267c",
   "metadata": {},
   "outputs": [],
   "source": [
    "x_data = med_data.drop('output', axis=1).values\n",
    "y_data = med_data['output'].values"
   ]
  },
  {
   "cell_type": "markdown",
   "id": "ac70e5f6",
   "metadata": {},
   "source": [
    "## Balance data"
   ]
  },
  {
   "cell_type": "code",
   "execution_count": 7,
   "id": "c63a2486",
   "metadata": {},
   "outputs": [
    {
     "name": "stdout",
     "output_type": "stream",
     "text": [
      "Requirement already satisfied: imblearn in c:\\virtualenvs\\modml\\lib\\site-packages (0.0)\n",
      "Requirement already satisfied: imbalanced-learn in c:\\virtualenvs\\modml\\lib\\site-packages (from imblearn) (0.10.1)\n",
      "Requirement already satisfied: numpy>=1.17.3 in c:\\virtualenvs\\modml\\lib\\site-packages (from imbalanced-learn->imblearn) (1.25.0)\n",
      "Requirement already satisfied: scipy>=1.3.2 in c:\\virtualenvs\\modml\\lib\\site-packages (from imbalanced-learn->imblearn) (1.10.1)\n",
      "Requirement already satisfied: scikit-learn>=1.0.2 in c:\\virtualenvs\\modml\\lib\\site-packages (from imbalanced-learn->imblearn) (1.2.2)\n",
      "Requirement already satisfied: joblib>=1.1.1 in c:\\virtualenvs\\modml\\lib\\site-packages (from imbalanced-learn->imblearn) (1.2.0)\n",
      "Requirement already satisfied: threadpoolctl>=2.0.0 in c:\\virtualenvs\\modml\\lib\\site-packages (from imbalanced-learn->imblearn) (3.1.0)\n"
     ]
    },
    {
     "name": "stderr",
     "output_type": "stream",
     "text": [
      "\n",
      "[notice] A new release of pip is available: 23.2 -> 23.2.1\n",
      "[notice] To update, run: python.exe -m pip install --upgrade pip\n"
     ]
    }
   ],
   "source": [
    "!pip install imblearn"
   ]
  },
  {
   "cell_type": "code",
   "execution_count": 8,
   "id": "bf815ec0",
   "metadata": {},
   "outputs": [],
   "source": [
    "# UnderSampler to decrease the number of records from the majority class\n",
    "def data_balance(x_dt, y_dt):\n",
    "    undersample = RandomUnderSampler(random_state = 42)\n",
    "    x_under, y_under = undersample.fit_resample(x_dt, y_dt)\n",
    "    \n",
    "# TomekLinks to deal with outliers\n",
    "    tl = TomekLinks(sampling_strategy='all')\n",
    "    x_under, y_under = tl.fit_resample(x_under, y_under)\n",
    "    return x_under, y_under"
   ]
  },
  {
   "cell_type": "code",
   "execution_count": 9,
   "id": "9ed86635",
   "metadata": {},
   "outputs": [],
   "source": [
    "x_balance, y_balance = data_balance(x_data, y_data)"
   ]
  },
  {
   "cell_type": "markdown",
   "id": "8d3bb33b",
   "metadata": {},
   "source": [
    "#### Veryfing balance data"
   ]
  },
  {
   "cell_type": "code",
   "execution_count": 10,
   "id": "b564e677",
   "metadata": {},
   "outputs": [
    {
     "name": "stdout",
     "output_type": "stream",
     "text": [
      "300 300\n"
     ]
    }
   ],
   "source": [
    "print(len(x_balance), len(y_balance))"
   ]
  },
  {
   "cell_type": "code",
   "execution_count": 11,
   "id": "eb30bca3",
   "metadata": {},
   "outputs": [
    {
     "name": "stdout",
     "output_type": "stream",
     "text": [
      "Counter({0: 150, 1: 150})\n"
     ]
    }
   ],
   "source": [
    "import collections\n",
    "print(collections.Counter(y_balance))"
   ]
  },
  {
   "cell_type": "code",
   "execution_count": 12,
   "id": "60ac1b3b",
   "metadata": {},
   "outputs": [
    {
     "data": {
      "text/html": [
       "<div>\n",
       "<style scoped>\n",
       "    .dataframe tbody tr th:only-of-type {\n",
       "        vertical-align: middle;\n",
       "    }\n",
       "\n",
       "    .dataframe tbody tr th {\n",
       "        vertical-align: top;\n",
       "    }\n",
       "\n",
       "    .dataframe thead th {\n",
       "        text-align: right;\n",
       "    }\n",
       "</style>\n",
       "<table border=\"1\" class=\"dataframe\">\n",
       "  <thead>\n",
       "    <tr style=\"text-align: right;\">\n",
       "      <th></th>\n",
       "      <th>age</th>\n",
       "      <th>sex</th>\n",
       "      <th>cp</th>\n",
       "      <th>trtbps</th>\n",
       "      <th>chol</th>\n",
       "      <th>fbs</th>\n",
       "      <th>restecg</th>\n",
       "      <th>thalachh</th>\n",
       "      <th>exng</th>\n",
       "      <th>oldpeak</th>\n",
       "      <th>slp</th>\n",
       "      <th>caa</th>\n",
       "      <th>thall</th>\n",
       "    </tr>\n",
       "  </thead>\n",
       "  <tbody>\n",
       "    <tr>\n",
       "      <th>count</th>\n",
       "      <td>300.00</td>\n",
       "      <td>300.00</td>\n",
       "      <td>300.00</td>\n",
       "      <td>300.00</td>\n",
       "      <td>300.00</td>\n",
       "      <td>300.00</td>\n",
       "      <td>300.00</td>\n",
       "      <td>300.00</td>\n",
       "      <td>300.00</td>\n",
       "      <td>300.00</td>\n",
       "      <td>300.00</td>\n",
       "      <td>300.00</td>\n",
       "      <td>300.00</td>\n",
       "    </tr>\n",
       "    <tr>\n",
       "      <th>mean</th>\n",
       "      <td>54.29</td>\n",
       "      <td>0.70</td>\n",
       "      <td>0.90</td>\n",
       "      <td>132.54</td>\n",
       "      <td>245.34</td>\n",
       "      <td>0.16</td>\n",
       "      <td>0.54</td>\n",
       "      <td>148.86</td>\n",
       "      <td>0.35</td>\n",
       "      <td>1.07</td>\n",
       "      <td>1.37</td>\n",
       "      <td>0.71</td>\n",
       "      <td>2.34</td>\n",
       "    </tr>\n",
       "    <tr>\n",
       "      <th>std</th>\n",
       "      <td>9.28</td>\n",
       "      <td>0.46</td>\n",
       "      <td>1.01</td>\n",
       "      <td>17.67</td>\n",
       "      <td>52.00</td>\n",
       "      <td>0.36</td>\n",
       "      <td>0.53</td>\n",
       "      <td>23.88</td>\n",
       "      <td>0.48</td>\n",
       "      <td>1.18</td>\n",
       "      <td>0.62</td>\n",
       "      <td>1.01</td>\n",
       "      <td>0.63</td>\n",
       "    </tr>\n",
       "    <tr>\n",
       "      <th>min</th>\n",
       "      <td>29.00</td>\n",
       "      <td>0.00</td>\n",
       "      <td>0.00</td>\n",
       "      <td>94.00</td>\n",
       "      <td>126.00</td>\n",
       "      <td>0.00</td>\n",
       "      <td>0.00</td>\n",
       "      <td>71.00</td>\n",
       "      <td>0.00</td>\n",
       "      <td>0.00</td>\n",
       "      <td>0.00</td>\n",
       "      <td>0.00</td>\n",
       "      <td>0.00</td>\n",
       "    </tr>\n",
       "    <tr>\n",
       "      <th>25%</th>\n",
       "      <td>47.00</td>\n",
       "      <td>0.00</td>\n",
       "      <td>0.00</td>\n",
       "      <td>120.00</td>\n",
       "      <td>207.75</td>\n",
       "      <td>0.00</td>\n",
       "      <td>0.00</td>\n",
       "      <td>132.00</td>\n",
       "      <td>0.00</td>\n",
       "      <td>0.00</td>\n",
       "      <td>1.00</td>\n",
       "      <td>0.00</td>\n",
       "      <td>2.00</td>\n",
       "    </tr>\n",
       "    <tr>\n",
       "      <th>50%</th>\n",
       "      <td>55.00</td>\n",
       "      <td>1.00</td>\n",
       "      <td>0.00</td>\n",
       "      <td>130.00</td>\n",
       "      <td>243.00</td>\n",
       "      <td>0.00</td>\n",
       "      <td>1.00</td>\n",
       "      <td>152.00</td>\n",
       "      <td>0.00</td>\n",
       "      <td>0.80</td>\n",
       "      <td>1.00</td>\n",
       "      <td>0.00</td>\n",
       "      <td>2.00</td>\n",
       "    </tr>\n",
       "    <tr>\n",
       "      <th>75%</th>\n",
       "      <td>60.00</td>\n",
       "      <td>1.00</td>\n",
       "      <td>2.00</td>\n",
       "      <td>140.00</td>\n",
       "      <td>276.25</td>\n",
       "      <td>0.00</td>\n",
       "      <td>1.00</td>\n",
       "      <td>166.00</td>\n",
       "      <td>1.00</td>\n",
       "      <td>1.65</td>\n",
       "      <td>2.00</td>\n",
       "      <td>1.00</td>\n",
       "      <td>3.00</td>\n",
       "    </tr>\n",
       "    <tr>\n",
       "      <th>max</th>\n",
       "      <td>77.00</td>\n",
       "      <td>1.00</td>\n",
       "      <td>3.00</td>\n",
       "      <td>200.00</td>\n",
       "      <td>564.00</td>\n",
       "      <td>1.00</td>\n",
       "      <td>2.00</td>\n",
       "      <td>202.00</td>\n",
       "      <td>1.00</td>\n",
       "      <td>6.20</td>\n",
       "      <td>2.00</td>\n",
       "      <td>4.00</td>\n",
       "      <td>3.00</td>\n",
       "    </tr>\n",
       "  </tbody>\n",
       "</table>\n",
       "</div>"
      ],
      "text/plain": [
       "          age     sex      cp  trtbps    chol     fbs  restecg  thalachh  \\\n",
       "count  300.00  300.00  300.00  300.00  300.00  300.00   300.00    300.00   \n",
       "mean    54.29    0.70    0.90  132.54  245.34    0.16     0.54    148.86   \n",
       "std      9.28    0.46    1.01   17.67   52.00    0.36     0.53     23.88   \n",
       "min     29.00    0.00    0.00   94.00  126.00    0.00     0.00     71.00   \n",
       "25%     47.00    0.00    0.00  120.00  207.75    0.00     0.00    132.00   \n",
       "50%     55.00    1.00    0.00  130.00  243.00    0.00     1.00    152.00   \n",
       "75%     60.00    1.00    2.00  140.00  276.25    0.00     1.00    166.00   \n",
       "max     77.00    1.00    3.00  200.00  564.00    1.00     2.00    202.00   \n",
       "\n",
       "         exng  oldpeak     slp     caa   thall  \n",
       "count  300.00   300.00  300.00  300.00  300.00  \n",
       "mean     0.35     1.07    1.37    0.71    2.34  \n",
       "std      0.48     1.18    0.62    1.01    0.63  \n",
       "min      0.00     0.00    0.00    0.00    0.00  \n",
       "25%      0.00     0.00    1.00    0.00    2.00  \n",
       "50%      0.00     0.80    1.00    0.00    2.00  \n",
       "75%      1.00     1.65    2.00    1.00    3.00  \n",
       "max      1.00     6.20    2.00    4.00    3.00  "
      ]
     },
     "execution_count": 12,
     "metadata": {},
     "output_type": "execute_result"
    }
   ],
   "source": [
    "round(pd.DataFrame(x_balance, columns =['age', 'sex', 'cp', 'trtbps', 'chol', 'fbs', 'restecg', 'thalachh', 'exng', 'oldpeak', 'slp', 'caa', 'thall']).describe(),2)"
   ]
  },
  {
   "cell_type": "markdown",
   "id": "6b3444f5",
   "metadata": {},
   "source": [
    "## Creating Function to split training and test data"
   ]
  },
  {
   "cell_type": "code",
   "execution_count": 13,
   "id": "3a222af9",
   "metadata": {},
   "outputs": [],
   "source": [
    "def split_train_test(x_balance, y_balance):\n",
    "    x_train, x_test, y_train, y_test = train_test_split(x_balance,\n",
    "                                                       y_balance,\n",
    "                                                       random_state = 42,\n",
    "                                                       test_size = 0.2)\n",
    "    return x_train, x_test, y_train, y_test"
   ]
  },
  {
   "cell_type": "code",
   "execution_count": 14,
   "id": "bb891fd0",
   "metadata": {},
   "outputs": [],
   "source": [
    "# Applying function\n",
    "x_train, x_test, y_train, y_test = split_train_test(x_balance, y_balance)"
   ]
  },
  {
   "cell_type": "code",
   "execution_count": 15,
   "id": "cbf43209",
   "metadata": {},
   "outputs": [
    {
     "name": "stdout",
     "output_type": "stream",
     "text": [
      "X: 240 60\n",
      "Y: 240 60\n"
     ]
    }
   ],
   "source": [
    "# X\n",
    "print(\"X:\", len(x_train), len(x_test))\n",
    "# Y\n",
    "print(\"Y:\", len(y_train), len(y_test))"
   ]
  },
  {
   "cell_type": "markdown",
   "id": "f5d68f1b",
   "metadata": {},
   "source": [
    "## Creating RandomForest Model"
   ]
  },
  {
   "cell_type": "code",
   "execution_count": 16,
   "id": "e94c8918",
   "metadata": {},
   "outputs": [],
   "source": [
    "# Create classifier Random Forest\n",
    "classifier = RandomForestClassifier(random_state=42, n_estimators=100, max_depth=100)\n",
    "\n",
    "# Create classifier Model\n",
    "model = classifier.fit(x_train, y_train)\n",
    "\n",
    "# Make Predictions\n",
    "y_pred = model.predict(x_test)"
   ]
  },
  {
   "cell_type": "markdown",
   "id": "1a8cf40c",
   "metadata": {},
   "source": [
    "### Feautures Importance"
   ]
  },
  {
   "cell_type": "code",
   "execution_count": 17,
   "id": "9f7e331d",
   "metadata": {},
   "outputs": [
    {
     "data": {
      "text/html": [
       "<div>\n",
       "<style scoped>\n",
       "    .dataframe tbody tr th:only-of-type {\n",
       "        vertical-align: middle;\n",
       "    }\n",
       "\n",
       "    .dataframe tbody tr th {\n",
       "        vertical-align: top;\n",
       "    }\n",
       "\n",
       "    .dataframe thead th {\n",
       "        text-align: right;\n",
       "    }\n",
       "</style>\n",
       "<table border=\"1\" class=\"dataframe\">\n",
       "  <thead>\n",
       "    <tr style=\"text-align: right;\">\n",
       "      <th></th>\n",
       "      <th>importance</th>\n",
       "    </tr>\n",
       "  </thead>\n",
       "  <tbody>\n",
       "    <tr>\n",
       "      <th>thall</th>\n",
       "      <td>0.144780</td>\n",
       "    </tr>\n",
       "    <tr>\n",
       "      <th>cp</th>\n",
       "      <td>0.139700</td>\n",
       "    </tr>\n",
       "    <tr>\n",
       "      <th>thalachh</th>\n",
       "      <td>0.132176</td>\n",
       "    </tr>\n",
       "    <tr>\n",
       "      <th>oldpeak</th>\n",
       "      <td>0.128531</td>\n",
       "    </tr>\n",
       "    <tr>\n",
       "      <th>age</th>\n",
       "      <td>0.083394</td>\n",
       "    </tr>\n",
       "    <tr>\n",
       "      <th>caa</th>\n",
       "      <td>0.080611</td>\n",
       "    </tr>\n",
       "    <tr>\n",
       "      <th>chol</th>\n",
       "      <td>0.077381</td>\n",
       "    </tr>\n",
       "    <tr>\n",
       "      <th>trtbps</th>\n",
       "      <td>0.064248</td>\n",
       "    </tr>\n",
       "    <tr>\n",
       "      <th>exng</th>\n",
       "      <td>0.052134</td>\n",
       "    </tr>\n",
       "    <tr>\n",
       "      <th>sex</th>\n",
       "      <td>0.036074</td>\n",
       "    </tr>\n",
       "    <tr>\n",
       "      <th>slp</th>\n",
       "      <td>0.035390</td>\n",
       "    </tr>\n",
       "    <tr>\n",
       "      <th>restecg</th>\n",
       "      <td>0.016528</td>\n",
       "    </tr>\n",
       "    <tr>\n",
       "      <th>fbs</th>\n",
       "      <td>0.009052</td>\n",
       "    </tr>\n",
       "  </tbody>\n",
       "</table>\n",
       "</div>"
      ],
      "text/plain": [
       "          importance\n",
       "thall       0.144780\n",
       "cp          0.139700\n",
       "thalachh    0.132176\n",
       "oldpeak     0.128531\n",
       "age         0.083394\n",
       "caa         0.080611\n",
       "chol        0.077381\n",
       "trtbps      0.064248\n",
       "exng        0.052134\n",
       "sex         0.036074\n",
       "slp         0.035390\n",
       "restecg     0.016528\n",
       "fbs         0.009052"
      ]
     },
     "execution_count": 17,
     "metadata": {},
     "output_type": "execute_result"
    }
   ],
   "source": [
    "pd.DataFrame(model.feature_importances_, columns = ['importance'],\n",
    "            index = ['age', 'sex', 'cp', 'trtbps', 'chol', 'fbs', 'restecg', 'thalachh', 'exng', 'oldpeak', 'slp', 'caa', 'thall']).sort_values('importance', ascending = False)"
   ]
  },
  {
   "cell_type": "markdown",
   "id": "b1054cef",
   "metadata": {},
   "source": [
    "### Calculating Accuracy"
   ]
  },
  {
   "cell_type": "code",
   "execution_count": 18,
   "id": "6ad3b958",
   "metadata": {},
   "outputs": [
    {
     "name": "stdout",
     "output_type": "stream",
     "text": [
      "Accuracy: 0.8611111111111112\n"
     ]
    }
   ],
   "source": [
    "print(\"Accuracy:\", y_test.sum()/y_pred.sum())"
   ]
  },
  {
   "cell_type": "markdown",
   "id": "007a8462",
   "metadata": {},
   "source": [
    "## Creating Confusion Matrix"
   ]
  },
  {
   "cell_type": "code",
   "execution_count": 19,
   "id": "97932023",
   "metadata": {},
   "outputs": [],
   "source": [
    "cm = confusion_matrix(y_test, y_pred)"
   ]
  },
  {
   "cell_type": "code",
   "execution_count": 20,
   "id": "30e3e53f",
   "metadata": {},
   "outputs": [
    {
     "data": {
      "image/png": "[encoded data removed]",
      "text/plain": [
       "<Figure size 600x300 with 2 Axes>"
      ]
     },
     "metadata": {},
     "output_type": "display_data"
    }
   ],
   "source": [
    "# Define axis names\n",
    "labels = ['Lower chance of heart attack', 'Higher chance of heart attack']\n",
    "\n",
    "plt.figure(figsize=(6,3))\n",
    "sns.heatmap(data=cm,\n",
    "           annot=True, # show values\n",
    "           cmap='Blues', # Blue map\n",
    "           xticklabels=labels,\n",
    "           yticklabels=labels\n",
    "           )\n",
    "plt.xlabel('Predict value')\n",
    "plt.ylabel('Real Value')\n",
    "plt.title('Confusion Matrix')\n",
    "plt.show()"
   ]
  },
  {
   "cell_type": "markdown",
   "id": "db6abf65",
   "metadata": {},
   "source": [
    "## Reporting from classification"
   ]
  },
  {
   "cell_type": "code",
   "execution_count": 21,
   "id": "57c20784",
   "metadata": {},
   "outputs": [
    {
     "name": "stdout",
     "output_type": "stream",
     "text": [
      "              precision    recall  f1-score   support\n",
      "\n",
      "           0       0.92      0.76      0.83        29\n",
      "           1       0.81      0.94      0.87        31\n",
      "\n",
      "    accuracy                           0.85        60\n",
      "   macro avg       0.86      0.85      0.85        60\n",
      "weighted avg       0.86      0.85      0.85        60\n",
      "\n"
     ]
    }
   ],
   "source": [
    "report = classification_report(y_test, y_pred)\n",
    "\n",
    "# Print the report\n",
    "print(report)"
   ]
  },
  {
   "cell_type": "markdown",
   "id": "280696b2",
   "metadata": {},
   "source": [
    "- What's the correlation between CP (Chest Pain Type) and Output?\n",
    "- Considering a new patient with the following data, what's the output?\n",
    "    - Patient: [33, 1, 3, 50, 233, 1, 0, 150, 0, 2.3, 0, 0, 1] "
   ]
  },
  {
   "cell_type": "code",
   "execution_count": 22,
   "id": "f5d15e4f",
   "metadata": {},
   "outputs": [
    {
     "data": {
      "text/html": [
       "<div>\n",
       "<style scoped>\n",
       "    .dataframe tbody tr th:only-of-type {\n",
       "        vertical-align: middle;\n",
       "    }\n",
       "\n",
       "    .dataframe tbody tr th {\n",
       "        vertical-align: top;\n",
       "    }\n",
       "\n",
       "    .dataframe thead th {\n",
       "        text-align: right;\n",
       "    }\n",
       "</style>\n",
       "<table border=\"1\" class=\"dataframe\">\n",
       "  <thead>\n",
       "    <tr style=\"text-align: right;\">\n",
       "      <th></th>\n",
       "      <th>cp</th>\n",
       "      <th>output</th>\n",
       "    </tr>\n",
       "  </thead>\n",
       "  <tbody>\n",
       "    <tr>\n",
       "      <th>cp</th>\n",
       "      <td>1.000000</td>\n",
       "      <td>0.445482</td>\n",
       "    </tr>\n",
       "    <tr>\n",
       "      <th>output</th>\n",
       "      <td>0.445482</td>\n",
       "      <td>1.000000</td>\n",
       "    </tr>\n",
       "  </tbody>\n",
       "</table>\n",
       "</div>"
      ],
      "text/plain": [
       "              cp    output\n",
       "cp      1.000000  0.445482\n",
       "output  0.445482  1.000000"
      ]
     },
     "execution_count": 22,
     "metadata": {},
     "output_type": "execute_result"
    }
   ],
   "source": [
    "# Create a DataFrame for x_data\n",
    "x_df = pd.DataFrame(x_data, columns=med_data.columns[:-1])\n",
    "\n",
    "# Create a DataFrame for y_data\n",
    "y_df = pd.DataFrame(y_data, columns=['output'])\n",
    "\n",
    "# Concat the data and print correlation matrix\n",
    "pd.DataFrame(pd.concat([x_df, y_df], axis=1), columns =['cp','output']).corr() "
   ]
  },
  {
   "cell_type": "code",
   "execution_count": 23,
   "id": "fb83be45",
   "metadata": {},
   "outputs": [
    {
     "name": "stdout",
     "output_type": "stream",
     "text": [
      "Output New Patient: [1]\n"
     ]
    }
   ],
   "source": [
    "patient_data = [[33, 1, 3, 50, 233, 1, 0, 150, 0, 2.3, 0, 0, 1]]\n",
    "patient_df = pd.DataFrame(patient_data, columns=['age', 'sex', 'cp', 'trtbps', 'chol', 'fbs', 'restecg', 'thalachh', 'exng', 'oldpeak', 'slp', 'caa', 'thall'])\n",
    "\n",
    "prediction = model.predict(patient_data)\n",
    "print(\"Output New Patient:\", prediction)"
   ]
  }
 ],
 "metadata": {
  "kernelspec": {
   "display_name": "MODML",
   "language": "python",
   "name": "python3"
  },
  "language_info": {
   "codemirror_mode": {
    "name": "ipython",
    "version": 3
   },
   "file_extension": ".py",
   "mimetype": "text/x-python",
   "name": "python",
   "nbconvert_exporter": "python",
   "pygments_lexer": "ipython3",
   "version": "3.11.3"
  }
 },
 "nbformat": 4,
 "nbformat_minor": 5
}
